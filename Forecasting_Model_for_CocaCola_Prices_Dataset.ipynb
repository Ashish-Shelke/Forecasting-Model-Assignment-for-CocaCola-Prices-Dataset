{
 "cells": [
  {
   "cell_type": "markdown",
   "id": "4af3101a",
   "metadata": {},
   "source": [
    "## Forecasting Model Assignment: \n",
    "\n",
    "### Forecast the CocaCola prices data set. Prepare a document for  model explaining how many dummy variables you have created and RMSE value for  model. Finally which model you will use for Forecasting."
   ]
  },
  {
   "cell_type": "markdown",
   "id": "29cb0e2a",
   "metadata": {},
   "source": [
    "# 1. Importing Libraries:"
   ]
  },
  {
   "cell_type": "code",
   "execution_count": 1,
   "id": "7c1b279c",
   "metadata": {},
   "outputs": [],
   "source": [
    "import numpy as np\n",
    "import pandas as pd\n",
    "import seaborn as sns\n",
    "import matplotlib\n",
    "import matplotlib.pyplot as plt\n",
    "from matplotlib import pyplot\n",
    "import itertools\n",
    "\n",
    "import statsmodels.api as sm\n",
    "from statsmodels.tsa.seasonal import seasonal_decompose\n",
    "from statsmodels.tsa.holtwinters import SimpleExpSmoothing\n",
    "from statsmodels.tsa.holtwinters import Holt\n",
    "from statsmodels.tsa.holtwinters import ExponentialSmoothing\n",
    "import statsmodels.graphics.tsaplots as tsa_plots\n",
    "import statsmodels.tsa.statespace as tm_models\n",
    "from datetime import datetime,time\n",
    "\n",
    "from pylab import rcParams\n",
    "from statsmodels.tsa.arima_model import ARIMA\n",
    "import statsmodels.api as sm\n",
    "from sklearn.metrics import mean_squared_error\n",
    "import statsmodels.formula.api as smf\n",
    "\n",
    "import warnings\n",
    "warnings.filterwarnings('ignore')"
   ]
  },
  {
   "cell_type": "markdown",
   "id": "3ae285f6",
   "metadata": {},
   "source": [
    "# 2. Import Data / Dataset:"
   ]
  },
  {
   "cell_type": "code",
   "execution_count": 3,
   "id": "618ebb79",
   "metadata": {},
   "outputs": [
    {
     "data": {
      "text/html": [
       "<div>\n",
       "<style scoped>\n",
       "    .dataframe tbody tr th:only-of-type {\n",
       "        vertical-align: middle;\n",
       "    }\n",
       "\n",
       "    .dataframe tbody tr th {\n",
       "        vertical-align: top;\n",
       "    }\n",
       "\n",
       "    .dataframe thead th {\n",
       "        text-align: right;\n",
       "    }\n",
       "</style>\n",
       "<table border=\"1\" class=\"dataframe\">\n",
       "  <thead>\n",
       "    <tr style=\"text-align: right;\">\n",
       "      <th></th>\n",
       "      <th>Quarter</th>\n",
       "      <th>Sales</th>\n",
       "    </tr>\n",
       "  </thead>\n",
       "  <tbody>\n",
       "    <tr>\n",
       "      <th>0</th>\n",
       "      <td>Q1_86</td>\n",
       "      <td>1734.827000</td>\n",
       "    </tr>\n",
       "    <tr>\n",
       "      <th>1</th>\n",
       "      <td>Q2_86</td>\n",
       "      <td>2244.960999</td>\n",
       "    </tr>\n",
       "    <tr>\n",
       "      <th>2</th>\n",
       "      <td>Q3_86</td>\n",
       "      <td>2533.804993</td>\n",
       "    </tr>\n",
       "    <tr>\n",
       "      <th>3</th>\n",
       "      <td>Q4_86</td>\n",
       "      <td>2154.962997</td>\n",
       "    </tr>\n",
       "    <tr>\n",
       "      <th>4</th>\n",
       "      <td>Q1_87</td>\n",
       "      <td>1547.818996</td>\n",
       "    </tr>\n",
       "  </tbody>\n",
       "</table>\n",
       "</div>"
      ],
      "text/plain": [
       "  Quarter        Sales\n",
       "0   Q1_86  1734.827000\n",
       "1   Q2_86  2244.960999\n",
       "2   Q3_86  2533.804993\n",
       "3   Q4_86  2154.962997\n",
       "4   Q1_87  1547.818996"
      ]
     },
     "execution_count": 3,
     "metadata": {},
     "output_type": "execute_result"
    }
   ],
   "source": [
    "df_cola = pd.read_excel('CocaCola_Sales_Rawdata.xlsx')\n",
    "df_cola.head()"
   ]
  },
  {
   "cell_type": "markdown",
   "id": "93239477",
   "metadata": {},
   "source": [
    "# 3. Data Understanding / Exploration / EDA:"
   ]
  },
  {
   "cell_type": "markdown",
   "id": "4f34d458",
   "metadata": {},
   "source": [
    "## 3.1 Descriptive Analysis:"
   ]
  },
  {
   "cell_type": "code",
   "execution_count": 5,
   "id": "4b99e6cd",
   "metadata": {},
   "outputs": [
    {
     "data": {
      "text/plain": [
       "(42, 2)"
      ]
     },
     "execution_count": 5,
     "metadata": {},
     "output_type": "execute_result"
    }
   ],
   "source": [
    "df_cola.shape"
   ]
  },
  {
   "cell_type": "code",
   "execution_count": 6,
   "id": "7ae07d7d",
   "metadata": {},
   "outputs": [
    {
     "data": {
      "text/plain": [
       "Quarter     object\n",
       "Sales      float64\n",
       "dtype: object"
      ]
     },
     "execution_count": 6,
     "metadata": {},
     "output_type": "execute_result"
    }
   ],
   "source": [
    "df_cola.dtypes"
   ]
  },
  {
   "cell_type": "code",
   "execution_count": 7,
   "id": "dc2482df",
   "metadata": {},
   "outputs": [
    {
     "name": "stdout",
     "output_type": "stream",
     "text": [
      "<class 'pandas.core.frame.DataFrame'>\n",
      "RangeIndex: 42 entries, 0 to 41\n",
      "Data columns (total 2 columns):\n",
      " #   Column   Non-Null Count  Dtype  \n",
      "---  ------   --------------  -----  \n",
      " 0   Quarter  42 non-null     object \n",
      " 1   Sales    42 non-null     float64\n",
      "dtypes: float64(1), object(1)\n",
      "memory usage: 800.0+ bytes\n"
     ]
    }
   ],
   "source": [
    "df_cola.info()"
   ]
  },
  {
   "cell_type": "code",
   "execution_count": 8,
   "id": "69a2ac68",
   "metadata": {},
   "outputs": [
    {
     "data": {
      "text/plain": [
       "Quarter    0\n",
       "Sales      0\n",
       "dtype: int64"
      ]
     },
     "execution_count": 8,
     "metadata": {},
     "output_type": "execute_result"
    }
   ],
   "source": [
    "df_cola.isnull().sum()"
   ]
  },
  {
   "cell_type": "code",
   "execution_count": 9,
   "id": "1ae037fc",
   "metadata": {},
   "outputs": [
    {
     "data": {
      "text/plain": [
       "Quarter    False\n",
       "Sales      False\n",
       "dtype: bool"
      ]
     },
     "execution_count": 9,
     "metadata": {},
     "output_type": "execute_result"
    }
   ],
   "source": [
    "df_cola.isnull().any()"
   ]
  },
  {
   "cell_type": "code",
   "execution_count": 10,
   "id": "96e9cbca",
   "metadata": {},
   "outputs": [
    {
     "data": {
      "text/plain": [
       "Quarter    42\n",
       "Sales      42\n",
       "dtype: int64"
      ]
     },
     "execution_count": 10,
     "metadata": {},
     "output_type": "execute_result"
    }
   ],
   "source": [
    "df_cola.nunique()"
   ]
  },
  {
   "cell_type": "code",
   "execution_count": 12,
   "id": "8bd23739",
   "metadata": {},
   "outputs": [
    {
     "data": {
      "text/plain": [
       "(0, 2)"
      ]
     },
     "execution_count": 12,
     "metadata": {},
     "output_type": "execute_result"
    }
   ],
   "source": [
    "df_cola[df_cola.duplicated()].shape"
   ]
  },
  {
   "cell_type": "code",
   "execution_count": 13,
   "id": "a05398c3",
   "metadata": {},
   "outputs": [
    {
     "data": {
      "text/html": [
       "<div>\n",
       "<style scoped>\n",
       "    .dataframe tbody tr th:only-of-type {\n",
       "        vertical-align: middle;\n",
       "    }\n",
       "\n",
       "    .dataframe tbody tr th {\n",
       "        vertical-align: top;\n",
       "    }\n",
       "\n",
       "    .dataframe thead th {\n",
       "        text-align: right;\n",
       "    }\n",
       "</style>\n",
       "<table border=\"1\" class=\"dataframe\">\n",
       "  <thead>\n",
       "    <tr style=\"text-align: right;\">\n",
       "      <th></th>\n",
       "      <th>Quarter</th>\n",
       "      <th>Sales</th>\n",
       "    </tr>\n",
       "  </thead>\n",
       "  <tbody>\n",
       "  </tbody>\n",
       "</table>\n",
       "</div>"
      ],
      "text/plain": [
       "Empty DataFrame\n",
       "Columns: [Quarter, Sales]\n",
       "Index: []"
      ]
     },
     "execution_count": 13,
     "metadata": {},
     "output_type": "execute_result"
    }
   ],
   "source": [
    "df_cola[df_cola.duplicated()]"
   ]
  },
  {
   "cell_type": "code",
   "execution_count": 18,
   "id": "1ee48864",
   "metadata": {},
   "outputs": [
    {
     "data": {
      "text/html": [
       "<div>\n",
       "<style scoped>\n",
       "    .dataframe tbody tr th:only-of-type {\n",
       "        vertical-align: middle;\n",
       "    }\n",
       "\n",
       "    .dataframe tbody tr th {\n",
       "        vertical-align: top;\n",
       "    }\n",
       "\n",
       "    .dataframe thead th {\n",
       "        text-align: right;\n",
       "    }\n",
       "</style>\n",
       "<table border=\"1\" class=\"dataframe\">\n",
       "  <thead>\n",
       "    <tr style=\"text-align: right;\">\n",
       "      <th></th>\n",
       "      <th>Sales</th>\n",
       "    </tr>\n",
       "  </thead>\n",
       "  <tbody>\n",
       "    <tr>\n",
       "      <th>count</th>\n",
       "      <td>42.000000</td>\n",
       "    </tr>\n",
       "    <tr>\n",
       "      <th>mean</th>\n",
       "      <td>2994.353308</td>\n",
       "    </tr>\n",
       "    <tr>\n",
       "      <th>std</th>\n",
       "      <td>977.930896</td>\n",
       "    </tr>\n",
       "    <tr>\n",
       "      <th>min</th>\n",
       "      <td>1547.818996</td>\n",
       "    </tr>\n",
       "    <tr>\n",
       "      <th>25%</th>\n",
       "      <td>2159.714247</td>\n",
       "    </tr>\n",
       "    <tr>\n",
       "      <th>50%</th>\n",
       "      <td>2782.376999</td>\n",
       "    </tr>\n",
       "    <tr>\n",
       "      <th>75%</th>\n",
       "      <td>3609.250000</td>\n",
       "    </tr>\n",
       "    <tr>\n",
       "      <th>max</th>\n",
       "      <td>5253.000000</td>\n",
       "    </tr>\n",
       "  </tbody>\n",
       "</table>\n",
       "</div>"
      ],
      "text/plain": [
       "             Sales\n",
       "count    42.000000\n",
       "mean   2994.353308\n",
       "std     977.930896\n",
       "min    1547.818996\n",
       "25%    2159.714247\n",
       "50%    2782.376999\n",
       "75%    3609.250000\n",
       "max    5253.000000"
      ]
     },
     "execution_count": 18,
     "metadata": {},
     "output_type": "execute_result"
    }
   ],
   "source": [
    "df_cola.describe()"
   ]
  },
  {
   "cell_type": "markdown",
   "id": "973d8be8",
   "metadata": {},
   "source": [
    "## 3.2 Data Visualization:"
   ]
  },
  {
   "cell_type": "code",
   "execution_count": 20,
   "id": "be8e427d",
   "metadata": {},
   "outputs": [
    {
     "data": {
      "image/png": "[encoded data removed]",
      "text/plain": [
       "<Figure size 432x288 with 1 Axes>"
      ]
     },
     "metadata": {},
     "output_type": "display_data"
    }
   ],
   "source": [
    "df_cola.Sales.plot()\n",
    "plt.show()"
   ]
  },
  {
   "cell_type": "code",
   "execution_count": 21,
   "id": "ebf5362e",
   "metadata": {},
   "outputs": [
    {
     "data": {
      "image/png": "[encoded data removed]",
      "text/plain": [
       "<Figure size 720x576 with 4 Axes>"
      ]
     },
     "metadata": {},
     "output_type": "display_data"
    }
   ],
   "source": [
    "plt.rcParams['figure.figsize'] = 10,8\n",
    "decomposition =seasonal_decompose(df_cola.Sales, model='mul', period= 4) # Additive Seasonal Index:\n",
    "decomposition.plot()\n",
    "plt.show()"
   ]
  },
  {
   "cell_type": "markdown",
   "id": "e84bffa6",
   "metadata": {},
   "source": [
    "# 4. Data preparation:"
   ]
  },
  {
   "cell_type": "code",
   "execution_count": 22,
   "id": "7fd99355",
   "metadata": {},
   "outputs": [],
   "source": [
    "df_cola.head()\n",
    "Quat = pd.Series(df_cola.Quarter)"
   ]
  },
  {
   "cell_type": "code",
   "execution_count": 23,
   "id": "924c8335",
   "metadata": {},
   "outputs": [],
   "source": [
    "quat=[]\n",
    "for i in range (len(df_cola)):\n",
    "    val= Quat[i]\n",
    "    quat.append(val[0:2])\n",
    "quat = pd.DataFrame({\"quat\":quat})\n",
    "quat = pd.get_dummies(quat)"
   ]
  },
  {
   "cell_type": "code",
   "execution_count": 24,
   "id": "882b8ca0",
   "metadata": {},
   "outputs": [
    {
     "data": {
      "text/html": [
       "<div>\n",
       "<style scoped>\n",
       "    .dataframe tbody tr th:only-of-type {\n",
       "        vertical-align: middle;\n",
       "    }\n",
       "\n",
       "    .dataframe tbody tr th {\n",
       "        vertical-align: top;\n",
       "    }\n",
       "\n",
       "    .dataframe thead th {\n",
       "        text-align: right;\n",
       "    }\n",
       "</style>\n",
       "<table border=\"1\" class=\"dataframe\">\n",
       "  <thead>\n",
       "    <tr style=\"text-align: right;\">\n",
       "      <th></th>\n",
       "      <th>Quarter</th>\n",
       "      <th>Sales</th>\n",
       "      <th>quat_Q1</th>\n",
       "      <th>quat_Q2</th>\n",
       "      <th>quat_Q3</th>\n",
       "      <th>quat_Q4</th>\n",
       "    </tr>\n",
       "  </thead>\n",
       "  <tbody>\n",
       "    <tr>\n",
       "      <th>0</th>\n",
       "      <td>Q1_86</td>\n",
       "      <td>1734.827000</td>\n",
       "      <td>1</td>\n",
       "      <td>0</td>\n",
       "      <td>0</td>\n",
       "      <td>0</td>\n",
       "    </tr>\n",
       "    <tr>\n",
       "      <th>1</th>\n",
       "      <td>Q2_86</td>\n",
       "      <td>2244.960999</td>\n",
       "      <td>0</td>\n",
       "      <td>1</td>\n",
       "      <td>0</td>\n",
       "      <td>0</td>\n",
       "    </tr>\n",
       "    <tr>\n",
       "      <th>2</th>\n",
       "      <td>Q3_86</td>\n",
       "      <td>2533.804993</td>\n",
       "      <td>0</td>\n",
       "      <td>0</td>\n",
       "      <td>1</td>\n",
       "      <td>0</td>\n",
       "    </tr>\n",
       "    <tr>\n",
       "      <th>3</th>\n",
       "      <td>Q4_86</td>\n",
       "      <td>2154.962997</td>\n",
       "      <td>0</td>\n",
       "      <td>0</td>\n",
       "      <td>0</td>\n",
       "      <td>1</td>\n",
       "    </tr>\n",
       "    <tr>\n",
       "      <th>4</th>\n",
       "      <td>Q1_87</td>\n",
       "      <td>1547.818996</td>\n",
       "      <td>1</td>\n",
       "      <td>0</td>\n",
       "      <td>0</td>\n",
       "      <td>0</td>\n",
       "    </tr>\n",
       "  </tbody>\n",
       "</table>\n",
       "</div>"
      ],
      "text/plain": [
       "  Quarter        Sales  quat_Q1  quat_Q2  quat_Q3  quat_Q4\n",
       "0   Q1_86  1734.827000        1        0        0        0\n",
       "1   Q2_86  2244.960999        0        1        0        0\n",
       "2   Q3_86  2533.804993        0        0        1        0\n",
       "3   Q4_86  2154.962997        0        0        0        1\n",
       "4   Q1_87  1547.818996        1        0        0        0"
      ]
     },
     "execution_count": 24,
     "metadata": {},
     "output_type": "execute_result"
    }
   ],
   "source": [
    "df_cola = pd.concat([df_cola, quat], axis=1)\n",
    "df_cola.head()"
   ]
  },
  {
   "cell_type": "code",
   "execution_count": 25,
   "id": "fe43a371",
   "metadata": {},
   "outputs": [
    {
     "data": {
      "text/html": [
       "<div>\n",
       "<style scoped>\n",
       "    .dataframe tbody tr th:only-of-type {\n",
       "        vertical-align: middle;\n",
       "    }\n",
       "\n",
       "    .dataframe tbody tr th {\n",
       "        vertical-align: top;\n",
       "    }\n",
       "\n",
       "    .dataframe thead th {\n",
       "        text-align: right;\n",
       "    }\n",
       "</style>\n",
       "<table border=\"1\" class=\"dataframe\">\n",
       "  <thead>\n",
       "    <tr style=\"text-align: right;\">\n",
       "      <th></th>\n",
       "      <th>Quarter</th>\n",
       "      <th>Sales</th>\n",
       "      <th>quat_Q1</th>\n",
       "      <th>quat_Q2</th>\n",
       "      <th>quat_Q3</th>\n",
       "      <th>quat_Q4</th>\n",
       "      <th>t</th>\n",
       "      <th>t_square</th>\n",
       "    </tr>\n",
       "  </thead>\n",
       "  <tbody>\n",
       "    <tr>\n",
       "      <th>0</th>\n",
       "      <td>Q1_86</td>\n",
       "      <td>1734.827000</td>\n",
       "      <td>1</td>\n",
       "      <td>0</td>\n",
       "      <td>0</td>\n",
       "      <td>0</td>\n",
       "      <td>1</td>\n",
       "      <td>1</td>\n",
       "    </tr>\n",
       "    <tr>\n",
       "      <th>1</th>\n",
       "      <td>Q2_86</td>\n",
       "      <td>2244.960999</td>\n",
       "      <td>0</td>\n",
       "      <td>1</td>\n",
       "      <td>0</td>\n",
       "      <td>0</td>\n",
       "      <td>2</td>\n",
       "      <td>4</td>\n",
       "    </tr>\n",
       "    <tr>\n",
       "      <th>2</th>\n",
       "      <td>Q3_86</td>\n",
       "      <td>2533.804993</td>\n",
       "      <td>0</td>\n",
       "      <td>0</td>\n",
       "      <td>1</td>\n",
       "      <td>0</td>\n",
       "      <td>3</td>\n",
       "      <td>9</td>\n",
       "    </tr>\n",
       "    <tr>\n",
       "      <th>3</th>\n",
       "      <td>Q4_86</td>\n",
       "      <td>2154.962997</td>\n",
       "      <td>0</td>\n",
       "      <td>0</td>\n",
       "      <td>0</td>\n",
       "      <td>1</td>\n",
       "      <td>4</td>\n",
       "      <td>16</td>\n",
       "    </tr>\n",
       "    <tr>\n",
       "      <th>4</th>\n",
       "      <td>Q1_87</td>\n",
       "      <td>1547.818996</td>\n",
       "      <td>1</td>\n",
       "      <td>0</td>\n",
       "      <td>0</td>\n",
       "      <td>0</td>\n",
       "      <td>5</td>\n",
       "      <td>25</td>\n",
       "    </tr>\n",
       "  </tbody>\n",
       "</table>\n",
       "</div>"
      ],
      "text/plain": [
       "  Quarter        Sales  quat_Q1  quat_Q2  quat_Q3  quat_Q4  t  t_square\n",
       "0   Q1_86  1734.827000        1        0        0        0  1         1\n",
       "1   Q2_86  2244.960999        0        1        0        0  2         4\n",
       "2   Q3_86  2533.804993        0        0        1        0  3         9\n",
       "3   Q4_86  2154.962997        0        0        0        1  4        16\n",
       "4   Q1_87  1547.818996        1        0        0        0  5        25"
      ]
     },
     "execution_count": 25,
     "metadata": {},
     "output_type": "execute_result"
    }
   ],
   "source": [
    "t= np.arange(1,43)\n",
    "df_cola['t']=t\n",
    "df_cola['t_square']=np.square(df_cola['t'])\n",
    "df_cola.head()"
   ]
  },
  {
   "cell_type": "code",
   "execution_count": 26,
   "id": "18d0effe",
   "metadata": {},
   "outputs": [
    {
     "data": {
      "text/html": [
       "<div>\n",
       "<style scoped>\n",
       "    .dataframe tbody tr th:only-of-type {\n",
       "        vertical-align: middle;\n",
       "    }\n",
       "\n",
       "    .dataframe tbody tr th {\n",
       "        vertical-align: top;\n",
       "    }\n",
       "\n",
       "    .dataframe thead th {\n",
       "        text-align: right;\n",
       "    }\n",
       "</style>\n",
       "<table border=\"1\" class=\"dataframe\">\n",
       "  <thead>\n",
       "    <tr style=\"text-align: right;\">\n",
       "      <th></th>\n",
       "      <th>Quarter</th>\n",
       "      <th>Sales</th>\n",
       "      <th>quat_Q1</th>\n",
       "      <th>quat_Q2</th>\n",
       "      <th>quat_Q3</th>\n",
       "      <th>quat_Q4</th>\n",
       "      <th>t</th>\n",
       "      <th>t_square</th>\n",
       "    </tr>\n",
       "  </thead>\n",
       "  <tbody>\n",
       "    <tr>\n",
       "      <th>0</th>\n",
       "      <td>Q1_86</td>\n",
       "      <td>1734.827000</td>\n",
       "      <td>1</td>\n",
       "      <td>0</td>\n",
       "      <td>0</td>\n",
       "      <td>0</td>\n",
       "      <td>1</td>\n",
       "      <td>1</td>\n",
       "    </tr>\n",
       "    <tr>\n",
       "      <th>1</th>\n",
       "      <td>Q2_86</td>\n",
       "      <td>2244.960999</td>\n",
       "      <td>0</td>\n",
       "      <td>1</td>\n",
       "      <td>0</td>\n",
       "      <td>0</td>\n",
       "      <td>2</td>\n",
       "      <td>4</td>\n",
       "    </tr>\n",
       "    <tr>\n",
       "      <th>2</th>\n",
       "      <td>Q3_86</td>\n",
       "      <td>2533.804993</td>\n",
       "      <td>0</td>\n",
       "      <td>0</td>\n",
       "      <td>1</td>\n",
       "      <td>0</td>\n",
       "      <td>3</td>\n",
       "      <td>9</td>\n",
       "    </tr>\n",
       "    <tr>\n",
       "      <th>3</th>\n",
       "      <td>Q4_86</td>\n",
       "      <td>2154.962997</td>\n",
       "      <td>0</td>\n",
       "      <td>0</td>\n",
       "      <td>0</td>\n",
       "      <td>1</td>\n",
       "      <td>4</td>\n",
       "      <td>16</td>\n",
       "    </tr>\n",
       "    <tr>\n",
       "      <th>4</th>\n",
       "      <td>Q1_87</td>\n",
       "      <td>1547.818996</td>\n",
       "      <td>1</td>\n",
       "      <td>0</td>\n",
       "      <td>0</td>\n",
       "      <td>0</td>\n",
       "      <td>5</td>\n",
       "      <td>25</td>\n",
       "    </tr>\n",
       "  </tbody>\n",
       "</table>\n",
       "</div>"
      ],
      "text/plain": [
       "  Quarter        Sales  quat_Q1  quat_Q2  quat_Q3  quat_Q4  t  t_square\n",
       "0   Q1_86  1734.827000        1        0        0        0  1         1\n",
       "1   Q2_86  2244.960999        0        1        0        0  2         4\n",
       "2   Q3_86  2533.804993        0        0        1        0  3         9\n",
       "3   Q4_86  2154.962997        0        0        0        1  4        16\n",
       "4   Q1_87  1547.818996        1        0        0        0  5        25"
      ]
     },
     "execution_count": 26,
     "metadata": {},
     "output_type": "execute_result"
    }
   ],
   "source": [
    "df_cola.head()"
   ]
  },
  {
   "cell_type": "code",
   "execution_count": 27,
   "id": "ec2e440f",
   "metadata": {},
   "outputs": [
    {
     "data": {
      "text/html": [
       "<div>\n",
       "<style scoped>\n",
       "    .dataframe tbody tr th:only-of-type {\n",
       "        vertical-align: middle;\n",
       "    }\n",
       "\n",
       "    .dataframe tbody tr th {\n",
       "        vertical-align: top;\n",
       "    }\n",
       "\n",
       "    .dataframe thead th {\n",
       "        text-align: right;\n",
       "    }\n",
       "</style>\n",
       "<table border=\"1\" class=\"dataframe\">\n",
       "  <thead>\n",
       "    <tr style=\"text-align: right;\">\n",
       "      <th></th>\n",
       "      <th>Quarter</th>\n",
       "      <th>Sales</th>\n",
       "      <th>quat_Q1</th>\n",
       "      <th>quat_Q2</th>\n",
       "      <th>quat_Q3</th>\n",
       "      <th>quat_Q4</th>\n",
       "      <th>t</th>\n",
       "      <th>t_square</th>\n",
       "      <th>log_Sales</th>\n",
       "    </tr>\n",
       "  </thead>\n",
       "  <tbody>\n",
       "    <tr>\n",
       "      <th>0</th>\n",
       "      <td>Q1_86</td>\n",
       "      <td>1734.827000</td>\n",
       "      <td>1</td>\n",
       "      <td>0</td>\n",
       "      <td>0</td>\n",
       "      <td>0</td>\n",
       "      <td>1</td>\n",
       "      <td>1</td>\n",
       "      <td>7.458663</td>\n",
       "    </tr>\n",
       "    <tr>\n",
       "      <th>1</th>\n",
       "      <td>Q2_86</td>\n",
       "      <td>2244.960999</td>\n",
       "      <td>0</td>\n",
       "      <td>1</td>\n",
       "      <td>0</td>\n",
       "      <td>0</td>\n",
       "      <td>2</td>\n",
       "      <td>4</td>\n",
       "      <td>7.716443</td>\n",
       "    </tr>\n",
       "    <tr>\n",
       "      <th>2</th>\n",
       "      <td>Q3_86</td>\n",
       "      <td>2533.804993</td>\n",
       "      <td>0</td>\n",
       "      <td>0</td>\n",
       "      <td>1</td>\n",
       "      <td>0</td>\n",
       "      <td>3</td>\n",
       "      <td>9</td>\n",
       "      <td>7.837477</td>\n",
       "    </tr>\n",
       "    <tr>\n",
       "      <th>3</th>\n",
       "      <td>Q4_86</td>\n",
       "      <td>2154.962997</td>\n",
       "      <td>0</td>\n",
       "      <td>0</td>\n",
       "      <td>0</td>\n",
       "      <td>1</td>\n",
       "      <td>4</td>\n",
       "      <td>16</td>\n",
       "      <td>7.675529</td>\n",
       "    </tr>\n",
       "    <tr>\n",
       "      <th>4</th>\n",
       "      <td>Q1_87</td>\n",
       "      <td>1547.818996</td>\n",
       "      <td>1</td>\n",
       "      <td>0</td>\n",
       "      <td>0</td>\n",
       "      <td>0</td>\n",
       "      <td>5</td>\n",
       "      <td>25</td>\n",
       "      <td>7.344602</td>\n",
       "    </tr>\n",
       "  </tbody>\n",
       "</table>\n",
       "</div>"
      ],
      "text/plain": [
       "  Quarter        Sales  quat_Q1  quat_Q2  quat_Q3  quat_Q4  t  t_square  \\\n",
       "0   Q1_86  1734.827000        1        0        0        0  1         1   \n",
       "1   Q2_86  2244.960999        0        1        0        0  2         4   \n",
       "2   Q3_86  2533.804993        0        0        1        0  3         9   \n",
       "3   Q4_86  2154.962997        0        0        0        1  4        16   \n",
       "4   Q1_87  1547.818996        1        0        0        0  5        25   \n",
       "\n",
       "   log_Sales  \n",
       "0   7.458663  \n",
       "1   7.716443  \n",
       "2   7.837477  \n",
       "3   7.675529  \n",
       "4   7.344602  "
      ]
     },
     "execution_count": 27,
     "metadata": {},
     "output_type": "execute_result"
    }
   ],
   "source": [
    "df_cola[\"log_Sales\"]=np.log(df_cola['Sales'])\n",
    "df_cola.head()"
   ]
  },
  {
   "cell_type": "markdown",
   "id": "65eb4bc5",
   "metadata": {},
   "source": [
    "# 5. Model Building:"
   ]
  },
  {
   "cell_type": "code",
   "execution_count": 28,
   "id": "e3de4f7a",
   "metadata": {},
   "outputs": [],
   "source": [
    "# Train test Split:\n",
    "\n",
    "train = df_cola.iloc[0:36]\n",
    "test = df_cola.iloc[36:]"
   ]
  },
  {
   "cell_type": "code",
   "execution_count": 29,
   "id": "a536dc58",
   "metadata": {},
   "outputs": [
    {
     "data": {
      "text/html": [
       "<div>\n",
       "<style scoped>\n",
       "    .dataframe tbody tr th:only-of-type {\n",
       "        vertical-align: middle;\n",
       "    }\n",
       "\n",
       "    .dataframe tbody tr th {\n",
       "        vertical-align: top;\n",
       "    }\n",
       "\n",
       "    .dataframe thead th {\n",
       "        text-align: right;\n",
       "    }\n",
       "</style>\n",
       "<table border=\"1\" class=\"dataframe\">\n",
       "  <thead>\n",
       "    <tr style=\"text-align: right;\">\n",
       "      <th></th>\n",
       "      <th>Quarter</th>\n",
       "      <th>Sales</th>\n",
       "      <th>quat_Q1</th>\n",
       "      <th>quat_Q2</th>\n",
       "      <th>quat_Q3</th>\n",
       "      <th>quat_Q4</th>\n",
       "      <th>t</th>\n",
       "      <th>t_square</th>\n",
       "      <th>log_Sales</th>\n",
       "    </tr>\n",
       "  </thead>\n",
       "  <tbody>\n",
       "    <tr>\n",
       "      <th>31</th>\n",
       "      <td>Q4_93</td>\n",
       "      <td>3373.0</td>\n",
       "      <td>0</td>\n",
       "      <td>0</td>\n",
       "      <td>0</td>\n",
       "      <td>1</td>\n",
       "      <td>32</td>\n",
       "      <td>1024</td>\n",
       "      <td>8.123558</td>\n",
       "    </tr>\n",
       "    <tr>\n",
       "      <th>32</th>\n",
       "      <td>Q1_94</td>\n",
       "      <td>3352.0</td>\n",
       "      <td>1</td>\n",
       "      <td>0</td>\n",
       "      <td>0</td>\n",
       "      <td>0</td>\n",
       "      <td>33</td>\n",
       "      <td>1089</td>\n",
       "      <td>8.117312</td>\n",
       "    </tr>\n",
       "    <tr>\n",
       "      <th>33</th>\n",
       "      <td>Q2_94</td>\n",
       "      <td>4342.0</td>\n",
       "      <td>0</td>\n",
       "      <td>1</td>\n",
       "      <td>0</td>\n",
       "      <td>0</td>\n",
       "      <td>34</td>\n",
       "      <td>1156</td>\n",
       "      <td>8.376090</td>\n",
       "    </tr>\n",
       "    <tr>\n",
       "      <th>34</th>\n",
       "      <td>Q3_94</td>\n",
       "      <td>4461.0</td>\n",
       "      <td>0</td>\n",
       "      <td>0</td>\n",
       "      <td>1</td>\n",
       "      <td>0</td>\n",
       "      <td>35</td>\n",
       "      <td>1225</td>\n",
       "      <td>8.403128</td>\n",
       "    </tr>\n",
       "    <tr>\n",
       "      <th>35</th>\n",
       "      <td>Q4_94</td>\n",
       "      <td>4017.0</td>\n",
       "      <td>0</td>\n",
       "      <td>0</td>\n",
       "      <td>0</td>\n",
       "      <td>1</td>\n",
       "      <td>36</td>\n",
       "      <td>1296</td>\n",
       "      <td>8.298291</td>\n",
       "    </tr>\n",
       "  </tbody>\n",
       "</table>\n",
       "</div>"
      ],
      "text/plain": [
       "   Quarter   Sales  quat_Q1  quat_Q2  quat_Q3  quat_Q4   t  t_square  \\\n",
       "31   Q4_93  3373.0        0        0        0        1  32      1024   \n",
       "32   Q1_94  3352.0        1        0        0        0  33      1089   \n",
       "33   Q2_94  4342.0        0        1        0        0  34      1156   \n",
       "34   Q3_94  4461.0        0        0        1        0  35      1225   \n",
       "35   Q4_94  4017.0        0        0        0        1  36      1296   \n",
       "\n",
       "    log_Sales  \n",
       "31   8.123558  \n",
       "32   8.117312  \n",
       "33   8.376090  \n",
       "34   8.403128  \n",
       "35   8.298291  "
      ]
     },
     "execution_count": 29,
     "metadata": {},
     "output_type": "execute_result"
    }
   ],
   "source": [
    "train.tail()"
   ]
  },
  {
   "cell_type": "code",
   "execution_count": 30,
   "id": "d8932cce",
   "metadata": {},
   "outputs": [
    {
     "data": {
      "text/html": [
       "<div>\n",
       "<style scoped>\n",
       "    .dataframe tbody tr th:only-of-type {\n",
       "        vertical-align: middle;\n",
       "    }\n",
       "\n",
       "    .dataframe tbody tr th {\n",
       "        vertical-align: top;\n",
       "    }\n",
       "\n",
       "    .dataframe thead th {\n",
       "        text-align: right;\n",
       "    }\n",
       "</style>\n",
       "<table border=\"1\" class=\"dataframe\">\n",
       "  <thead>\n",
       "    <tr style=\"text-align: right;\">\n",
       "      <th></th>\n",
       "      <th>Quarter</th>\n",
       "      <th>Sales</th>\n",
       "      <th>quat_Q1</th>\n",
       "      <th>quat_Q2</th>\n",
       "      <th>quat_Q3</th>\n",
       "      <th>quat_Q4</th>\n",
       "      <th>t</th>\n",
       "      <th>t_square</th>\n",
       "      <th>log_Sales</th>\n",
       "    </tr>\n",
       "  </thead>\n",
       "  <tbody>\n",
       "    <tr>\n",
       "      <th>36</th>\n",
       "      <td>Q1_95</td>\n",
       "      <td>3854.0</td>\n",
       "      <td>1</td>\n",
       "      <td>0</td>\n",
       "      <td>0</td>\n",
       "      <td>0</td>\n",
       "      <td>37</td>\n",
       "      <td>1369</td>\n",
       "      <td>8.256867</td>\n",
       "    </tr>\n",
       "    <tr>\n",
       "      <th>37</th>\n",
       "      <td>Q2_95</td>\n",
       "      <td>4936.0</td>\n",
       "      <td>0</td>\n",
       "      <td>1</td>\n",
       "      <td>0</td>\n",
       "      <td>0</td>\n",
       "      <td>38</td>\n",
       "      <td>1444</td>\n",
       "      <td>8.504311</td>\n",
       "    </tr>\n",
       "    <tr>\n",
       "      <th>38</th>\n",
       "      <td>Q3_95</td>\n",
       "      <td>4895.0</td>\n",
       "      <td>0</td>\n",
       "      <td>0</td>\n",
       "      <td>1</td>\n",
       "      <td>0</td>\n",
       "      <td>39</td>\n",
       "      <td>1521</td>\n",
       "      <td>8.495970</td>\n",
       "    </tr>\n",
       "    <tr>\n",
       "      <th>39</th>\n",
       "      <td>Q4_95</td>\n",
       "      <td>4333.0</td>\n",
       "      <td>0</td>\n",
       "      <td>0</td>\n",
       "      <td>0</td>\n",
       "      <td>1</td>\n",
       "      <td>40</td>\n",
       "      <td>1600</td>\n",
       "      <td>8.374015</td>\n",
       "    </tr>\n",
       "    <tr>\n",
       "      <th>40</th>\n",
       "      <td>Q1_96</td>\n",
       "      <td>4194.0</td>\n",
       "      <td>1</td>\n",
       "      <td>0</td>\n",
       "      <td>0</td>\n",
       "      <td>0</td>\n",
       "      <td>41</td>\n",
       "      <td>1681</td>\n",
       "      <td>8.341410</td>\n",
       "    </tr>\n",
       "    <tr>\n",
       "      <th>41</th>\n",
       "      <td>Q2_96</td>\n",
       "      <td>5253.0</td>\n",
       "      <td>0</td>\n",
       "      <td>1</td>\n",
       "      <td>0</td>\n",
       "      <td>0</td>\n",
       "      <td>42</td>\n",
       "      <td>1764</td>\n",
       "      <td>8.566555</td>\n",
       "    </tr>\n",
       "  </tbody>\n",
       "</table>\n",
       "</div>"
      ],
      "text/plain": [
       "   Quarter   Sales  quat_Q1  quat_Q2  quat_Q3  quat_Q4   t  t_square  \\\n",
       "36   Q1_95  3854.0        1        0        0        0  37      1369   \n",
       "37   Q2_95  4936.0        0        1        0        0  38      1444   \n",
       "38   Q3_95  4895.0        0        0        1        0  39      1521   \n",
       "39   Q4_95  4333.0        0        0        0        1  40      1600   \n",
       "40   Q1_96  4194.0        1        0        0        0  41      1681   \n",
       "41   Q2_96  5253.0        0        1        0        0  42      1764   \n",
       "\n",
       "    log_Sales  \n",
       "36   8.256867  \n",
       "37   8.504311  \n",
       "38   8.495970  \n",
       "39   8.374015  \n",
       "40   8.341410  \n",
       "41   8.566555  "
      ]
     },
     "execution_count": 30,
     "metadata": {},
     "output_type": "execute_result"
    }
   ],
   "source": [
    "test"
   ]
  },
  {
   "cell_type": "code",
   "execution_count": 31,
   "id": "7e219011",
   "metadata": {},
   "outputs": [
    {
     "data": {
      "text/plain": [
       "667.4256979280374"
      ]
     },
     "execution_count": 31,
     "metadata": {},
     "output_type": "execute_result"
    }
   ],
   "source": [
    "# linear model:\n",
    "\n",
    "linear_model= smf.ols('Sales~t',data=train).fit()\n",
    "pred1= linear_model.predict(test)\n",
    "rsme1= np.sqrt(mean_squared_error(test.Sales, pred1))\n",
    "rsme1"
   ]
  },
  {
   "cell_type": "code",
   "execution_count": 32,
   "id": "40870850",
   "metadata": {},
   "outputs": [
    {
     "data": {
      "text/plain": [
       "485.1406702070246"
      ]
     },
     "execution_count": 32,
     "metadata": {},
     "output_type": "execute_result"
    }
   ],
   "source": [
    "# Quadratic model:\n",
    "\n",
    "quad_model=smf.ols('Sales~t+t_square',data=train).fit()\n",
    "pred2 =  quad_model.predict(test)\n",
    "rsme2= np.sqrt(mean_squared_error(test.Sales, pred2))\n",
    "rsme2"
   ]
  },
  {
   "cell_type": "code",
   "execution_count": 33,
   "id": "f7be427d",
   "metadata": {},
   "outputs": [
    {
     "data": {
      "text/plain": [
       "526.7672615478397"
      ]
     },
     "execution_count": 33,
     "metadata": {},
     "output_type": "execute_result"
    }
   ],
   "source": [
    "# Exponential model:\n",
    "\n",
    "expo_model=smf.ols('log_Sales~t',data=train).fit()\n",
    "pred3= expo_model.predict(test)\n",
    "pred3= np.exp(pred3)\n",
    "rsme3= np.sqrt(mean_squared_error(test.Sales, pred3))\n",
    "rsme3"
   ]
  },
  {
   "cell_type": "code",
   "execution_count": 34,
   "id": "582624fd",
   "metadata": {},
   "outputs": [
    {
     "data": {
      "text/plain": [
       "1895.5593132150468"
      ]
     },
     "execution_count": 34,
     "metadata": {},
     "output_type": "execute_result"
    }
   ],
   "source": [
    "# Additive seasonality:\n",
    "\n",
    "add_model= smf.ols('Sales~ quat_Q1+quat_Q2+quat_Q3+quat_Q4',data=train).fit()\n",
    "pred4 = add_model.predict(test)\n",
    "rsme4= np.sqrt(mean_squared_error(test.Sales, pred4))\n",
    "rsme4"
   ]
  },
  {
   "cell_type": "code",
   "execution_count": 41,
   "id": "7bb9e649",
   "metadata": {},
   "outputs": [
    {
     "data": {
      "text/plain": [
       "555.3404286757394"
      ]
     },
     "execution_count": 41,
     "metadata": {},
     "output_type": "execute_result"
    }
   ],
   "source": [
    "# Additive seasonality with linear trend:\n",
    "\n",
    "adlin_model= smf.ols('Sales~t+quat_Q1+quat_Q2+quat_Q3+quat_Q4',data=train).fit()\n",
    "pred5 = adlin_model.predict(test)\n",
    "rsme5= np.sqrt(mean_squared_error(test.Sales, pred5))\n",
    "rsme5"
   ]
  },
  {
   "cell_type": "code",
   "execution_count": 35,
   "id": "358aa112",
   "metadata": {},
   "outputs": [
    {
     "data": {
      "text/plain": [
       "323.2127536714597"
      ]
     },
     "execution_count": 35,
     "metadata": {},
     "output_type": "execute_result"
    }
   ],
   "source": [
    "# Multiplicative seasonality with linear trend:\n",
    "\n",
    "mul_lin=smf.ols('log_Sales~t+quat_Q1+quat_Q2+quat_Q3+quat_Q4',data=train).fit()\n",
    "pred6= mul_lin.predict(test)\n",
    "pred6= np.exp(pred6)\n",
    "rsme6= np.sqrt(mean_squared_error(test.Sales, pred6))\n",
    "rsme6"
   ]
  },
  {
   "cell_type": "code",
   "execution_count": 36,
   "id": "6474abc5",
   "metadata": {},
   "outputs": [
    {
     "data": {
      "text/plain": [
       "602.5095425122709"
      ]
     },
     "execution_count": 36,
     "metadata": {},
     "output_type": "execute_result"
    }
   ],
   "source": [
    "# Multiplicative seasonality with quadratic trend:\n",
    "\n",
    "mul_quad=smf.ols('log_Sales~t+t_square+quat_Q1+quat_Q2+quat_Q3+quat_Q4',data=train).fit()\n",
    "pred7= mul_quad.predict(test)\n",
    "pred7= np.exp(pred7)\n",
    "rsme7= np.sqrt(mean_squared_error(test.Sales, pred7))\n",
    "rsme7"
   ]
  },
  {
   "cell_type": "code",
   "execution_count": 42,
   "id": "28ce7962",
   "metadata": {},
   "outputs": [
    {
     "data": {
      "text/plain": [
       "555.3404286757394"
      ]
     },
     "execution_count": 42,
     "metadata": {},
     "output_type": "execute_result"
    }
   ],
   "source": [
    "# Multiplicative seasonality:\n",
    "\n",
    "mulsea=smf.ols('log_Sales~quat_Q1+quat_Q2+quat_Q3+quat_Q4',data=train).fit()\n",
    "pred8= mulsea.predict(test)\n",
    "pred8= np.exp(pred5)\n",
    "rsme8= np.sqrt(mean_squared_error(test.Sales, pred5))\n",
    "rsme8"
   ]
  },
  {
   "cell_type": "code",
   "execution_count": 43,
   "id": "d55da330",
   "metadata": {},
   "outputs": [],
   "source": [
    "rmse = pd.DataFrame({\"Model\":\n",
    "                   [\"linear_model\", \"quad_model\",\"expo_model\", \"add_model\",\"adlin_model\",\"mul_lin\", \"mul_quad\",\"mulsea\"],\n",
    "                   \"RSME\":\n",
    "                    [rsme1, rsme2, rsme3, rsme4, rsme5, rsme6, rsme7, rsme8 ]})"
   ]
  },
  {
   "cell_type": "code",
   "execution_count": 44,
   "id": "eb37ca70",
   "metadata": {},
   "outputs": [
    {
     "data": {
      "text/html": [
       "<div>\n",
       "<style scoped>\n",
       "    .dataframe tbody tr th:only-of-type {\n",
       "        vertical-align: middle;\n",
       "    }\n",
       "\n",
       "    .dataframe tbody tr th {\n",
       "        vertical-align: top;\n",
       "    }\n",
       "\n",
       "    .dataframe thead th {\n",
       "        text-align: right;\n",
       "    }\n",
       "</style>\n",
       "<table border=\"1\" class=\"dataframe\">\n",
       "  <thead>\n",
       "    <tr style=\"text-align: right;\">\n",
       "      <th></th>\n",
       "      <th>Model</th>\n",
       "      <th>RSME</th>\n",
       "    </tr>\n",
       "  </thead>\n",
       "  <tbody>\n",
       "    <tr>\n",
       "      <th>0</th>\n",
       "      <td>linear_model</td>\n",
       "      <td>667.425698</td>\n",
       "    </tr>\n",
       "    <tr>\n",
       "      <th>1</th>\n",
       "      <td>quad_model</td>\n",
       "      <td>485.140670</td>\n",
       "    </tr>\n",
       "    <tr>\n",
       "      <th>2</th>\n",
       "      <td>expo_model</td>\n",
       "      <td>526.767262</td>\n",
       "    </tr>\n",
       "    <tr>\n",
       "      <th>3</th>\n",
       "      <td>add_model</td>\n",
       "      <td>1895.559313</td>\n",
       "    </tr>\n",
       "    <tr>\n",
       "      <th>4</th>\n",
       "      <td>adlin_model</td>\n",
       "      <td>555.340429</td>\n",
       "    </tr>\n",
       "    <tr>\n",
       "      <th>5</th>\n",
       "      <td>mul_lin</td>\n",
       "      <td>323.212754</td>\n",
       "    </tr>\n",
       "    <tr>\n",
       "      <th>6</th>\n",
       "      <td>mul_quad</td>\n",
       "      <td>602.509543</td>\n",
       "    </tr>\n",
       "    <tr>\n",
       "      <th>7</th>\n",
       "      <td>mulsea</td>\n",
       "      <td>555.340429</td>\n",
       "    </tr>\n",
       "  </tbody>\n",
       "</table>\n",
       "</div>"
      ],
      "text/plain": [
       "          Model         RSME\n",
       "0  linear_model   667.425698\n",
       "1    quad_model   485.140670\n",
       "2    expo_model   526.767262\n",
       "3     add_model  1895.559313\n",
       "4   adlin_model   555.340429\n",
       "5       mul_lin   323.212754\n",
       "6      mul_quad   602.509543\n",
       "7        mulsea   555.340429"
      ]
     },
     "execution_count": 44,
     "metadata": {},
     "output_type": "execute_result"
    }
   ],
   "source": [
    "rmse"
   ]
  },
  {
   "cell_type": "markdown",
   "id": "0d8b7fdb",
   "metadata": {},
   "source": [
    "## Final Observation:\n",
    "\n",
    "**As per the above all model values of RSME , multiplicative seasonality with linear trend model has the lowest value. So, it can be selected for future selection."
   ]
  }
 ],
 "metadata": {
  "kernelspec": {
   "display_name": "Python 3 (ipykernel)",
   "language": "python",
   "name": "python3"
  },
  "language_info": {
   "codemirror_mode": {
    "name": "ipython",
    "version": 3
   },
   "file_extension": ".py",
   "mimetype": "text/x-python",
   "name": "python",
   "nbconvert_exporter": "python",
   "pygments_lexer": "ipython3",
   "version": "3.9.7"
  }
 },
 "nbformat": 4,
 "nbformat_minor": 5
}
